{
 "cells": [
  {
   "cell_type": "markdown",
   "id": "b21048d0",
   "metadata": {
    "id": "b6e13eef3f5d",
    "papermill": {
     "duration": 0.010911,
     "end_time": "2025-04-02T20:28:22.330201",
     "exception": false,
     "start_time": "2025-04-02T20:28:22.319290",
     "status": "completed"
    },
    "tags": []
   },
   "source": [
    "##### Copyright 2025 Google LLC."
   ]
  },
  {
   "cell_type": "code",
   "execution_count": 1,
   "id": "1088d9a4",
   "metadata": {
    "cellView": "form",
    "execution": {
     "iopub.execute_input": "2025-04-02T20:28:22.348081Z",
     "iopub.status.busy": "2025-04-02T20:28:22.346886Z",
     "iopub.status.idle": "2025-04-02T20:28:22.352668Z",
     "shell.execute_reply": "2025-04-02T20:28:22.351784Z"
    },
    "id": "d6597b11df14",
    "jupyter": {
     "source_hidden": true
    },
    "papermill": {
     "duration": 0.016736,
     "end_time": "2025-04-02T20:28:22.354812",
     "exception": false,
     "start_time": "2025-04-02T20:28:22.338076",
     "status": "completed"
    },
    "tags": []
   },
   "outputs": [],
   "source": [
    "# @title Licensed under the Apache License, Version 2.0 (the \"License\");\n",
    "# you may not use this file except in compliance with the License.\n",
    "# You may obtain a copy of the License at\n",
    "#\n",
    "# https://www.apache.org/licenses/LICENSE-2.0\n",
    "#\n",
    "# Unless required by applicable law or agreed to in writing, software\n",
    "# distributed under the License is distributed on an \"AS IS\" BASIS,\n",
    "# WITHOUT WARRANTIES OR CONDITIONS OF ANY KIND, either express or implied.\n",
    "# See the License for the specific language governing permissions and\n",
    "# limitations under the License."
   ]
  },
  {
   "cell_type": "markdown",
   "id": "5768cdee",
   "metadata": {
    "id": "4a7d3bb68371",
    "papermill": {
     "duration": 0.007366,
     "end_time": "2025-04-02T20:28:22.369851",
     "exception": false,
     "start_time": "2025-04-02T20:28:22.362485",
     "status": "completed"
    },
    "tags": []
   },
   "source": [
    "# Day 3 - Function calling with the Gemini API\n",
    "\n",
    "Welcome back to the Kaggle 5-day Generative AI course!\n",
    "\n",
    "In this notebook, you will use the Gemini API's automatic function calling to build a chat interface over a local database. This example is a toy and is missing a number of safety and security constraints you would use in a real-world example, but shows how to add AI chat capabilities to existing applications with ease.\n",
    "\n",
    "## For help\n",
    "\n",
    "**Common issues are covered in the [FAQ and troubleshooting guide](https://www.kaggle.com/code/markishere/day-0-troubleshooting-and-faqs).**"
   ]
  },
  {
   "cell_type": "markdown",
   "id": "9efcf0a2",
   "metadata": {
    "id": "ea197d1d464f",
    "papermill": {
     "duration": 0.007375,
     "end_time": "2025-04-02T20:28:22.385722",
     "exception": false,
     "start_time": "2025-04-02T20:28:22.378347",
     "status": "completed"
    },
    "tags": []
   },
   "source": [
    "## Setup\n",
    "\n",
    "Start by installing and importing the Python SDK."
   ]
  },
  {
   "cell_type": "code",
   "execution_count": 2,
   "id": "a3c59043",
   "metadata": {
    "execution": {
     "iopub.execute_input": "2025-04-02T20:28:22.402442Z",
     "iopub.status.busy": "2025-04-02T20:28:22.402031Z",
     "iopub.status.idle": "2025-04-02T20:28:41.167121Z",
     "shell.execute_reply": "2025-04-02T20:28:41.165617Z"
    },
    "id": "a24f42e469df",
    "papermill": {
     "duration": 18.776657,
     "end_time": "2025-04-02T20:28:41.169920",
     "exception": false,
     "start_time": "2025-04-02T20:28:22.393263",
     "status": "completed"
    },
    "tags": []
   },
   "outputs": [],
   "source": [
    "!pip uninstall -qqy jupyterlab  # Remove unused conflicting packages\n",
    "!pip install -U -q \"google-genai==1.7.0\""
   ]
  },
  {
   "cell_type": "code",
   "execution_count": 3,
   "id": "26e1bca1",
   "metadata": {
    "execution": {
     "iopub.execute_input": "2025-04-02T20:28:41.187175Z",
     "iopub.status.busy": "2025-04-02T20:28:41.186708Z",
     "iopub.status.idle": "2025-04-02T20:28:42.487206Z",
     "shell.execute_reply": "2025-04-02T20:28:42.485869Z"
    },
    "id": "02bb0f551e25",
    "papermill": {
     "duration": 1.311958,
     "end_time": "2025-04-02T20:28:42.489663",
     "exception": false,
     "start_time": "2025-04-02T20:28:41.177705",
     "status": "completed"
    },
    "tags": []
   },
   "outputs": [
    {
     "data": {
      "text/plain": [
       "'1.7.0'"
      ]
     },
     "execution_count": 3,
     "metadata": {},
     "output_type": "execute_result"
    }
   ],
   "source": [
    "from google import genai\n",
    "from google.genai import types\n",
    "\n",
    "genai.__version__"
   ]
  },
  {
   "cell_type": "markdown",
   "id": "3cc4d60c",
   "metadata": {
    "id": "90e83cddff61",
    "papermill": {
     "duration": 0.007365,
     "end_time": "2025-04-02T20:28:42.505075",
     "exception": false,
     "start_time": "2025-04-02T20:28:42.497710",
     "status": "completed"
    },
    "tags": []
   },
   "source": [
    "### Set up your API key\n",
    "\n",
    "To run the following cell, your API key must be stored it in a [Kaggle secret](https://www.kaggle.com/discussions/product-feedback/114053) named `GOOGLE_API_KEY`.\n",
    "\n",
    "If you don't already have an API key, you can grab one from [AI Studio](https://aistudio.google.com/app/apikey). You can find [detailed instructions in the docs](https://ai.google.dev/gemini-api/docs/api-key).\n",
    "\n",
    "To make the key available through Kaggle secrets, choose `Secrets` from the `Add-ons` menu and follow the instructions to add your key or enable it for this notebook."
   ]
  },
  {
   "cell_type": "code",
   "execution_count": 4,
   "id": "11cf0a19",
   "metadata": {
    "execution": {
     "iopub.execute_input": "2025-04-02T20:28:42.522447Z",
     "iopub.status.busy": "2025-04-02T20:28:42.521845Z",
     "iopub.status.idle": "2025-04-02T20:28:42.655030Z",
     "shell.execute_reply": "2025-04-02T20:28:42.654063Z"
    },
    "id": "5cc8325f051d",
    "papermill": {
     "duration": 0.144474,
     "end_time": "2025-04-02T20:28:42.657290",
     "exception": false,
     "start_time": "2025-04-02T20:28:42.512816",
     "status": "completed"
    },
    "tags": []
   },
   "outputs": [],
   "source": [
    "from kaggle_secrets import UserSecretsClient\n",
    "\n",
    "GOOGLE_API_KEY = UserSecretsClient().get_secret(\"GOOGLE_API_KEY\")"
   ]
  },
  {
   "attachments": {
    "46790f5f-ffd8-4a65-9a91-0acc467fa57c.png": {
     "image/png": "[encoded data removed]"
    }
   },
   "cell_type": "markdown",
   "id": "afdbc68d",
   "metadata": {
    "id": "857b6f96eb38",
    "papermill": {
     "duration": 0.007323,
     "end_time": "2025-04-02T20:28:42.672486",
     "exception": false,
     "start_time": "2025-04-02T20:28:42.665163",
     "status": "completed"
    },
    "tags": []
   },
   "source": [
    "If you received an error response along the lines of `No user secrets exist for kernel id ...`, then you need to add your API key via `Add-ons`, `Secrets` **and** enable it.\n",
    "\n",
    "![Screenshot of the checkbox to enable GOOGLE_API_KEY secret](https://storage.googleapis.com/kaggle-media/Images/5gdai_sc_3.png)"
   ]
  },
  {
   "cell_type": "markdown",
   "id": "fbb5cd04",
   "metadata": {
    "papermill": {
     "duration": 0.007198,
     "end_time": "2025-04-02T20:28:42.687282",
     "exception": false,
     "start_time": "2025-04-02T20:28:42.680084",
     "status": "completed"
    },
    "tags": []
   },
   "source": [
    "### Automated retry"
   ]
  },
  {
   "cell_type": "code",
   "execution_count": 5,
   "id": "8f0a8fe3",
   "metadata": {
    "execution": {
     "iopub.execute_input": "2025-04-02T20:28:42.704153Z",
     "iopub.status.busy": "2025-04-02T20:28:42.703722Z",
     "iopub.status.idle": "2025-04-02T20:28:42.880183Z",
     "shell.execute_reply": "2025-04-02T20:28:42.878937Z"
    },
    "papermill": {
     "duration": 0.188134,
     "end_time": "2025-04-02T20:28:42.882821",
     "exception": false,
     "start_time": "2025-04-02T20:28:42.694687",
     "status": "completed"
    },
    "tags": []
   },
   "outputs": [],
   "source": [
    "# Define a retry policy. The model might make multiple consecutive calls automatically\n",
    "# for a complex query, this ensures the client retries if it hits quota limits.\n",
    "from google.api_core import retry\n",
    "\n",
    "is_retriable = lambda e: (isinstance(e, genai.errors.APIError) and e.code in {429, 503})\n",
    "\n",
    "if not hasattr(genai.models.Models.generate_content, '__wrapped__'):\n",
    "  genai.models.Models.generate_content = retry.Retry(\n",
    "      predicate=is_retriable)(genai.models.Models.generate_content)"
   ]
  },
  {
   "cell_type": "markdown",
   "id": "548950b2",
   "metadata": {
    "id": "ed8fc6062c62",
    "papermill": {
     "duration": 0.007669,
     "end_time": "2025-04-02T20:28:42.898469",
     "exception": false,
     "start_time": "2025-04-02T20:28:42.890800",
     "status": "completed"
    },
    "tags": []
   },
   "source": [
    "## Create a local database\n",
    "\n",
    "For this minimal example, you'll create a local SQLite database and add some synthetic data so you have something to query.\n",
    "\n",
    "Load the `sql` IPython extension so you can interact with the database using magic commands (the `%` instructions) to create a new, empty SQLite database."
   ]
  },
  {
   "cell_type": "code",
   "execution_count": 6,
   "id": "d1c25910",
   "metadata": {
    "execution": {
     "iopub.execute_input": "2025-04-02T20:28:42.916150Z",
     "iopub.status.busy": "2025-04-02T20:28:42.915544Z",
     "iopub.status.idle": "2025-04-02T20:28:44.622344Z",
     "shell.execute_reply": "2025-04-02T20:28:44.621421Z"
    },
    "id": "c98a627ef07b",
    "papermill": {
     "duration": 1.718153,
     "end_time": "2025-04-02T20:28:44.624669",
     "exception": false,
     "start_time": "2025-04-02T20:28:42.906516",
     "status": "completed"
    },
    "tags": []
   },
   "outputs": [],
   "source": [
    "%load_ext sql\n",
    "%sql sqlite:///sample.db"
   ]
  },
  {
   "cell_type": "markdown",
   "id": "f30d7168",
   "metadata": {
    "id": "14e7bc18b8af",
    "papermill": {
     "duration": 0.007005,
     "end_time": "2025-04-02T20:28:44.639287",
     "exception": false,
     "start_time": "2025-04-02T20:28:44.632282",
     "status": "completed"
    },
    "tags": []
   },
   "source": [
    "Create the tables and insert some synthetic data. Feel free to tweak this structure and data."
   ]
  },
  {
   "cell_type": "code",
   "execution_count": 7,
   "id": "d6f91302",
   "metadata": {
    "execution": {
     "iopub.execute_input": "2025-04-02T20:28:44.655692Z",
     "iopub.status.busy": "2025-04-02T20:28:44.655093Z",
     "iopub.status.idle": "2025-04-02T20:28:44.737802Z",
     "shell.execute_reply": "2025-04-02T20:28:44.736445Z"
    },
    "id": "4e186de46cf1",
    "papermill": {
     "duration": 0.093388,
     "end_time": "2025-04-02T20:28:44.739929",
     "exception": false,
     "start_time": "2025-04-02T20:28:44.646541",
     "status": "completed"
    },
    "tags": []
   },
   "outputs": [
    {
     "name": "stdout",
     "output_type": "stream",
     "text": [
      " * sqlite:///sample.db\n",
      "Done.\n",
      "Done.\n",
      "Done.\n",
      "3 rows affected.\n",
      "3 rows affected.\n",
      "3 rows affected.\n"
     ]
    },
    {
     "data": {
      "text/plain": [
       "[]"
      ]
     },
     "execution_count": 7,
     "metadata": {},
     "output_type": "execute_result"
    }
   ],
   "source": [
    "%%sql\n",
    "-- Create the 'products' table\n",
    "CREATE TABLE IF NOT EXISTS products (\n",
    "  \tproduct_id INTEGER PRIMARY KEY AUTOINCREMENT,\n",
    "  \tproduct_name VARCHAR(255) NOT NULL,\n",
    "  \tprice DECIMAL(10, 2) NOT NULL\n",
    "  );\n",
    "\n",
    "-- Create the 'staff' table\n",
    "CREATE TABLE IF NOT EXISTS staff (\n",
    "  \tstaff_id INTEGER PRIMARY KEY AUTOINCREMENT,\n",
    "  \tfirst_name VARCHAR(255) NOT NULL,\n",
    "  \tlast_name VARCHAR(255) NOT NULL\n",
    "  );\n",
    "\n",
    "-- Create the 'orders' table\n",
    "CREATE TABLE IF NOT EXISTS orders (\n",
    "  \torder_id INTEGER PRIMARY KEY AUTOINCREMENT,\n",
    "  \tcustomer_name VARCHAR(255) NOT NULL,\n",
    "  \tstaff_id INTEGER NOT NULL,\n",
    "  \tproduct_id INTEGER NOT NULL,\n",
    "  \tFOREIGN KEY (staff_id) REFERENCES staff (staff_id),\n",
    "  \tFOREIGN KEY (product_id) REFERENCES products (product_id)\n",
    "  );\n",
    "\n",
    "-- Insert data into the 'products' table\n",
    "INSERT INTO products (product_name, price) VALUES\n",
    "  \t('Laptop', 799.99),\n",
    "  \t('Keyboard', 129.99),\n",
    "  \t('Mouse', 29.99);\n",
    "\n",
    "-- Insert data into the 'staff' table\n",
    "INSERT INTO staff (first_name, last_name) VALUES\n",
    "  \t('Alice', 'Smith'),\n",
    "  \t('Bob', 'Johnson'),\n",
    "  \t('Charlie', 'Williams');\n",
    "\n",
    "-- Insert data into the 'orders' table\n",
    "INSERT INTO orders (customer_name, staff_id, product_id) VALUES\n",
    "  \t('David Lee', 1, 1),\n",
    "  \t('Emily Chen', 2, 2),\n",
    "  \t('Frank Brown', 1, 3);"
   ]
  },
  {
   "cell_type": "markdown",
   "id": "ff253203",
   "metadata": {
    "id": "83901899a79b",
    "papermill": {
     "duration": 0.00719,
     "end_time": "2025-04-02T20:28:44.754778",
     "exception": false,
     "start_time": "2025-04-02T20:28:44.747588",
     "status": "completed"
    },
    "tags": []
   },
   "source": [
    "## Define database functions\n",
    "\n",
    "Function calling with Gemini API's Python SDK can be implemented by defining [an OpenAPI schema](https://ai.google.dev/api/caching#Schema) that is passed to the model. You can also define Python functions and let the SDK inspect them to automatically define the schema. In this latter case, it's important that the functions are type annotated and have accurate docstrings that describe what the functions do - the model has no insight into the function body, so the docs function as the interface.\n",
    "\n",
    "By providing three key pieces of functionality - listing tables, describing a table, and executing a query - the LLM (much like a human user) will have the basic tools needed to understand and interrogate the database.\n",
    "\n",
    "Start with a database connection that will be used across all of the functions."
   ]
  },
  {
   "cell_type": "code",
   "execution_count": 8,
   "id": "316549fa",
   "metadata": {
    "execution": {
     "iopub.execute_input": "2025-04-02T20:28:44.771777Z",
     "iopub.status.busy": "2025-04-02T20:28:44.771024Z",
     "iopub.status.idle": "2025-04-02T20:28:44.776137Z",
     "shell.execute_reply": "2025-04-02T20:28:44.775079Z"
    },
    "id": "437168bc6b6e",
    "papermill": {
     "duration": 0.015991,
     "end_time": "2025-04-02T20:28:44.778200",
     "exception": false,
     "start_time": "2025-04-02T20:28:44.762209",
     "status": "completed"
    },
    "tags": []
   },
   "outputs": [],
   "source": [
    "import sqlite3\n",
    "\n",
    "db_file = \"sample.db\"\n",
    "db_conn = sqlite3.connect(db_file)"
   ]
  },
  {
   "cell_type": "markdown",
   "id": "df36fe27",
   "metadata": {
    "id": "b68b1a2c37d9",
    "papermill": {
     "duration": 0.009067,
     "end_time": "2025-04-02T20:28:44.795357",
     "exception": false,
     "start_time": "2025-04-02T20:28:44.786290",
     "status": "completed"
    },
    "tags": []
   },
   "source": [
    "The first function will list all tables available in the database. Define it, and test it out to ensure it works."
   ]
  },
  {
   "cell_type": "code",
   "execution_count": 9,
   "id": "de5e4e00",
   "metadata": {
    "execution": {
     "iopub.execute_input": "2025-04-02T20:28:44.812974Z",
     "iopub.status.busy": "2025-04-02T20:28:44.812563Z",
     "iopub.status.idle": "2025-04-02T20:28:44.822161Z",
     "shell.execute_reply": "2025-04-02T20:28:44.821079Z"
    },
    "id": "bdb0e4d2bb4b",
    "papermill": {
     "duration": 0.020775,
     "end_time": "2025-04-02T20:28:44.824252",
     "exception": false,
     "start_time": "2025-04-02T20:28:44.803477",
     "status": "completed"
    },
    "tags": []
   },
   "outputs": [
    {
     "name": "stdout",
     "output_type": "stream",
     "text": [
      " - DB CALL: list_tables()\n"
     ]
    },
    {
     "data": {
      "text/plain": [
       "['products', 'sqlite_sequence', 'staff', 'orders']"
      ]
     },
     "execution_count": 9,
     "metadata": {},
     "output_type": "execute_result"
    }
   ],
   "source": [
    "def list_tables() -> list[str]:\n",
    "    \"\"\"Retrieve the names of all tables in the database.\"\"\"\n",
    "    # Include print logging statements so you can see when functions are being called.\n",
    "    print(' - DB CALL: list_tables()')\n",
    "\n",
    "    cursor = db_conn.cursor()\n",
    "\n",
    "    # Fetch the table names.\n",
    "    cursor.execute(\"SELECT name FROM sqlite_master WHERE type='table';\")\n",
    "\n",
    "    tables = cursor.fetchall()\n",
    "    return [t[0] for t in tables]\n",
    "\n",
    "\n",
    "list_tables()"
   ]
  },
  {
   "cell_type": "markdown",
   "id": "7c33aca6",
   "metadata": {
    "id": "b6c010b1b6c2",
    "papermill": {
     "duration": 0.007902,
     "end_time": "2025-04-02T20:28:44.840080",
     "exception": false,
     "start_time": "2025-04-02T20:28:44.832178",
     "status": "completed"
    },
    "tags": []
   },
   "source": [
    "Once the available tables is known, the next step a database user will need is to understand what columns are available in a given table. Define that too, and test that it works as expected."
   ]
  },
  {
   "cell_type": "code",
   "execution_count": 10,
   "id": "97388f32",
   "metadata": {
    "execution": {
     "iopub.execute_input": "2025-04-02T20:28:44.858025Z",
     "iopub.status.busy": "2025-04-02T20:28:44.857598Z",
     "iopub.status.idle": "2025-04-02T20:28:44.867534Z",
     "shell.execute_reply": "2025-04-02T20:28:44.866183Z"
    },
    "id": "ecdb109298c4",
    "papermill": {
     "duration": 0.021312,
     "end_time": "2025-04-02T20:28:44.869597",
     "exception": false,
     "start_time": "2025-04-02T20:28:44.848285",
     "status": "completed"
    },
    "tags": []
   },
   "outputs": [
    {
     "name": "stdout",
     "output_type": "stream",
     "text": [
      " - DB CALL: describe_table(products)\n"
     ]
    },
    {
     "data": {
      "text/plain": [
       "[('product_id', 'INTEGER'),\n",
       " ('product_name', 'VARCHAR(255)'),\n",
       " ('price', 'DECIMAL(10, 2)')]"
      ]
     },
     "execution_count": 10,
     "metadata": {},
     "output_type": "execute_result"
    }
   ],
   "source": [
    "def describe_table(table_name: str) -> list[tuple[str, str]]:\n",
    "    \"\"\"Look up the table schema.\n",
    "\n",
    "    Returns:\n",
    "      List of columns, where each entry is a tuple of (column, type).\n",
    "    \"\"\"\n",
    "    print(f' - DB CALL: describe_table({table_name})')\n",
    "\n",
    "    cursor = db_conn.cursor()\n",
    "\n",
    "    cursor.execute(f\"PRAGMA table_info({table_name});\")\n",
    "\n",
    "    schema = cursor.fetchall()\n",
    "    # [column index, column name, column type, ...]\n",
    "    return [(col[1], col[2]) for col in schema]\n",
    "\n",
    "\n",
    "describe_table(\"products\")"
   ]
  },
  {
   "cell_type": "markdown",
   "id": "3b3e48a0",
   "metadata": {
    "id": "f6053a2ca272",
    "papermill": {
     "duration": 0.007611,
     "end_time": "2025-04-02T20:28:44.885652",
     "exception": false,
     "start_time": "2025-04-02T20:28:44.878041",
     "status": "completed"
    },
    "tags": []
   },
   "source": [
    "Now that the system knows what tables and columns are present, it has enough information to be able to generate and run a `SELECT` query. Now provide that functionality, and test that it works."
   ]
  },
  {
   "cell_type": "code",
   "execution_count": 11,
   "id": "382e11ac",
   "metadata": {
    "execution": {
     "iopub.execute_input": "2025-04-02T20:28:44.903505Z",
     "iopub.status.busy": "2025-04-02T20:28:44.902532Z",
     "iopub.status.idle": "2025-04-02T20:28:44.912122Z",
     "shell.execute_reply": "2025-04-02T20:28:44.911063Z"
    },
    "id": "9e405db8b3f6",
    "papermill": {
     "duration": 0.020942,
     "end_time": "2025-04-02T20:28:44.914404",
     "exception": false,
     "start_time": "2025-04-02T20:28:44.893462",
     "status": "completed"
    },
    "tags": []
   },
   "outputs": [
    {
     "name": "stdout",
     "output_type": "stream",
     "text": [
      " - DB CALL: execute_query(select * from products)\n"
     ]
    },
    {
     "data": {
      "text/plain": [
       "[(1, 'Laptop', 799.99), (2, 'Keyboard', 129.99), (3, 'Mouse', 29.99)]"
      ]
     },
     "execution_count": 11,
     "metadata": {},
     "output_type": "execute_result"
    }
   ],
   "source": [
    "def execute_query(sql: str) -> list[list[str]]:\n",
    "    \"\"\"Execute an SQL statement, returning the results.\"\"\"\n",
    "    print(f' - DB CALL: execute_query({sql})')\n",
    "\n",
    "    cursor = db_conn.cursor()\n",
    "\n",
    "    cursor.execute(sql)\n",
    "    return cursor.fetchall()\n",
    "\n",
    "\n",
    "execute_query(\"select * from products\")"
   ]
  },
  {
   "cell_type": "markdown",
   "id": "3ce9c462",
   "metadata": {
    "id": "ac464dfb35a0",
    "papermill": {
     "duration": 0.007745,
     "end_time": "2025-04-02T20:28:44.930210",
     "exception": false,
     "start_time": "2025-04-02T20:28:44.922465",
     "status": "completed"
    },
    "tags": []
   },
   "source": [
    "## Implement function calls\n",
    "\n",
    "Now you can put it all together in a call to the Gemini API.\n",
    "\n",
    "Function calling works by adding specific messages to a chat session. When function schemas are defined and made available to the model and a conversation is started, instead of returning a text response, the model may return a `function_call` instead. When this happens, the client must respond with a `function_response`, indicating the result of the call, and the conversation can continue on as normal.\n",
    "\n",
    "This function calling interaction normally happens manually, allowing you, the client, to validate and initiate the call. However the Python SDK also supports **automatic function calling**, where the supplied functions will be automatically invoked. This is a powerful feature and should be used with care, such as when the functions have no [side-effects](https://en.wikipedia.org/wiki/Side_effect_(computer_science)).\n",
    "\n",
    "Here's the state diagram representing the conversation flow with function calling. With automatic function calling, the bottom row is executed automatically by the Python SDK. With manual function calling, you write the code to run each step individually.\n",
    "\n",
    "![function calling state diagram](https://codelabs.developers.google.com/static/codelabs/gemini-function-calling/img/gemini-function-calling-overview_1440.png)"
   ]
  },
  {
   "cell_type": "code",
   "execution_count": 12,
   "id": "7a8d317f",
   "metadata": {
    "execution": {
     "iopub.execute_input": "2025-04-02T20:28:44.948436Z",
     "iopub.status.busy": "2025-04-02T20:28:44.947608Z",
     "iopub.status.idle": "2025-04-02T20:28:45.093746Z",
     "shell.execute_reply": "2025-04-02T20:28:45.092769Z"
    },
    "id": "f4839540066d",
    "papermill": {
     "duration": 0.157945,
     "end_time": "2025-04-02T20:28:45.096121",
     "exception": false,
     "start_time": "2025-04-02T20:28:44.938176",
     "status": "completed"
    },
    "tags": []
   },
   "outputs": [],
   "source": [
    "# These are the Python functions defined above.\n",
    "db_tools = [list_tables, describe_table, execute_query]\n",
    "\n",
    "instruction = \"\"\"You are a helpful chatbot that can interact with an SQL database\n",
    "for a computer store. You will take the users questions and turn them into SQL\n",
    "queries using the tools available. Once you have the information you need, you will\n",
    "answer the user's question using the data returned.\n",
    "\n",
    "Use list_tables to see what tables are present, describe_table to understand the\n",
    "schema, and execute_query to issue an SQL SELECT query.\"\"\"\n",
    "\n",
    "client = genai.Client(api_key=GOOGLE_API_KEY)\n",
    "\n",
    "# Start a chat with automatic function calling enabled.\n",
    "chat = client.chats.create(\n",
    "    model=\"gemini-2.0-flash\",\n",
    "    config=types.GenerateContentConfig(\n",
    "        system_instruction=instruction,\n",
    "        tools=db_tools,\n",
    "    ),\n",
    ")"
   ]
  },
  {
   "cell_type": "markdown",
   "id": "20091730",
   "metadata": {
    "id": "5f120977f1ee",
    "papermill": {
     "duration": 0.00779,
     "end_time": "2025-04-02T20:28:45.112185",
     "exception": false,
     "start_time": "2025-04-02T20:28:45.104395",
     "status": "completed"
    },
    "tags": []
   },
   "source": [
    "Now you can engage in a chat conversation where you can ask about the contents of the database."
   ]
  },
  {
   "cell_type": "code",
   "execution_count": 13,
   "id": "0faa65e5",
   "metadata": {
    "execution": {
     "iopub.execute_input": "2025-04-02T20:28:45.129939Z",
     "iopub.status.busy": "2025-04-02T20:28:45.129162Z",
     "iopub.status.idle": "2025-04-02T20:28:46.858111Z",
     "shell.execute_reply": "2025-04-02T20:28:46.856971Z"
    },
    "id": "111cfb79338b",
    "papermill": {
     "duration": 1.740186,
     "end_time": "2025-04-02T20:28:46.860304",
     "exception": false,
     "start_time": "2025-04-02T20:28:45.120118",
     "status": "completed"
    },
    "tags": []
   },
   "outputs": [
    {
     "name": "stdout",
     "output_type": "stream",
     "text": [
      " - DB CALL: list_tables()\n",
      " - DB CALL: describe_table(products)\n",
      " - DB CALL: execute_query(SELECT product_name, price FROM products ORDER BY price ASC LIMIT 1)\n",
      "\n",
      "The cheapest product is the Mouse, which costs $29.99.\n"
     ]
    }
   ],
   "source": [
    "resp = chat.send_message(\"What is the cheapest product?\")\n",
    "print(f\"\\n{resp.text}\")"
   ]
  },
  {
   "cell_type": "code",
   "execution_count": 14,
   "id": "6517e65b",
   "metadata": {
    "execution": {
     "iopub.execute_input": "2025-04-02T20:28:46.879228Z",
     "iopub.status.busy": "2025-04-02T20:28:46.878266Z",
     "iopub.status.idle": "2025-04-02T20:28:49.725567Z",
     "shell.execute_reply": "2025-04-02T20:28:49.724524Z"
    },
    "papermill": {
     "duration": 2.85924,
     "end_time": "2025-04-02T20:28:49.727914",
     "exception": false,
     "start_time": "2025-04-02T20:28:46.868674",
     "status": "completed"
    },
    "tags": []
   },
   "outputs": [
    {
     "name": "stdout",
     "output_type": "stream",
     "text": [
      " - DB CALL: list_tables()\n",
      " - DB CALL: describe_table(staff)\n",
      " - DB CALL: describe_table(orders)\n",
      " - DB CALL: describe_table(products)\n",
      " - DB CALL: execute_query(SELECT s.first_name, s.last_name, p.product_name FROM orders o JOIN staff s ON o.staff_id = s.staff_id JOIN products p ON o.product_id = p.product_id WHERE o.customer_name = 'Emily Chen')\n",
      "\n",
      "Bob Johnson helped Emily Chen pick out a Keyboard.\n"
     ]
    }
   ],
   "source": [
    "resp2 = chat.send_message(\"Which staff did help 'Emily Chen' pick out a product? And what was the product?\")\n",
    "print(f\"\\n{resp2.text}\")"
   ]
  },
  {
   "cell_type": "markdown",
   "id": "3392ce3d",
   "metadata": {
    "id": "d67f635191c8",
    "papermill": {
     "duration": 0.009899,
     "end_time": "2025-04-02T20:28:49.746933",
     "exception": false,
     "start_time": "2025-04-02T20:28:49.737034",
     "status": "completed"
    },
    "tags": []
   },
   "source": [
    "Explore the chat session and ask your own questions. The 2.0 models are quite capable and can usually answer questions requiring multiple steps."
   ]
  },
  {
   "cell_type": "code",
   "execution_count": 15,
   "id": "692ac3ff",
   "metadata": {
    "execution": {
     "iopub.execute_input": "2025-04-02T20:28:49.766937Z",
     "iopub.status.busy": "2025-04-02T20:28:49.766135Z",
     "iopub.status.idle": "2025-04-02T20:30:03.484557Z",
     "shell.execute_reply": "2025-04-02T20:30:03.483535Z"
    },
    "id": "647cbcc43993",
    "papermill": {
     "duration": 73.730617,
     "end_time": "2025-04-02T20:30:03.486750",
     "exception": false,
     "start_time": "2025-04-02T20:28:49.756133",
     "status": "completed"
    },
    "tags": []
   },
   "outputs": [
    {
     "name": "stdout",
     "output_type": "stream",
     "text": [
      " - DB CALL: list_tables()\n",
      " - DB CALL: describe_table(staff)\n",
      " - DB CALL: execute_query(SELECT staff_id FROM staff WHERE first_name = 'Alice')\n",
      " - DB CALL: describe_table(orders)\n",
      " - DB CALL: execute_query(SELECT product_id FROM orders WHERE staff_id = 1)\n",
      " - DB CALL: execute_query(SELECT product_id FROM products)\n",
      " - DB CALL: list_tables()\n",
      " - DB CALL: describe_table(products)\n",
      " - DB CALL: describe_table(staff)\n",
      " - DB CALL: describe_table(orders)\n",
      " - DB CALL: execute_query(SELECT product_name FROM products;)\n",
      " - DB CALL: execute_query(SELECT staff_id, first_name, last_name FROM staff WHERE first_name = 'Alice';)\n",
      " - DB CALL: execute_query(SELECT product_id FROM products;)\n",
      " - DB CALL: execute_query(SELECT product_id FROM orders WHERE staff_id = 1;)\n",
      "\n",
      "Alice (staff_id 1) has sold products with product_id 1 and 3. Product ID 1 is a Laptop, and Product ID 3 is a Mouse. Therefore, Alice should focus on selling Keyboards to round out her portfolio.\n"
     ]
    }
   ],
   "source": [
    "chat = client.chats.create(\n",
    "    model=\"gemini-2.0-flash\",\n",
    "    config=types.GenerateContentConfig(\n",
    "        system_instruction=instruction,\n",
    "        tools=db_tools,\n",
    "    ),\n",
    ")\n",
    "\n",
    "response = chat.send_message('What products should salesperson Alice focus on to round out her portfolio? Explain why.')\n",
    "print(f\"\\n{response.text}\")"
   ]
  },
  {
   "cell_type": "code",
   "execution_count": 16,
   "id": "f4a54514",
   "metadata": {
    "execution": {
     "iopub.execute_input": "2025-04-02T20:30:03.507915Z",
     "iopub.status.busy": "2025-04-02T20:30:03.507555Z",
     "iopub.status.idle": "2025-04-02T20:30:04.583451Z",
     "shell.execute_reply": "2025-04-02T20:30:04.582307Z"
    },
    "papermill": {
     "duration": 1.089267,
     "end_time": "2025-04-02T20:30:04.585733",
     "exception": false,
     "start_time": "2025-04-02T20:30:03.496466",
     "status": "completed"
    },
    "tags": []
   },
   "outputs": [
    {
     "name": "stdout",
     "output_type": "stream",
     "text": [
      " - DB CALL: execute_query(SELECT staff_id, count(*) FROM orders GROUP BY staff_id;)\n",
      "\n",
      "Staff ID 1 sold 2 products and Staff ID 2 sold 1 product.\n",
      "\n"
     ]
    }
   ],
   "source": [
    "resp2 = chat.send_message(\"Total products sold by each staff?\")\n",
    "print(f\"\\n{resp2.text}\")"
   ]
  },
  {
   "cell_type": "markdown",
   "id": "64fbe631",
   "metadata": {
    "id": "1f5bb6d9bd6a",
    "papermill": {
     "duration": 0.009043,
     "end_time": "2025-04-02T20:30:04.604358",
     "exception": false,
     "start_time": "2025-04-02T20:30:04.595315",
     "status": "completed"
    },
    "tags": []
   },
   "source": [
    "### Inspecting the conversation\n",
    "\n",
    "To see the calls that the model makes, and what the client returns in response, you can inspect the chat history. This helper function will print out each turn along with the relevant fields passed or returned."
   ]
  },
  {
   "cell_type": "code",
   "execution_count": 17,
   "id": "ee9023b1",
   "metadata": {
    "execution": {
     "iopub.execute_input": "2025-04-02T20:30:04.626505Z",
     "iopub.status.busy": "2025-04-02T20:30:04.626111Z",
     "iopub.status.idle": "2025-04-02T20:30:04.634414Z",
     "shell.execute_reply": "2025-04-02T20:30:04.633317Z"
    },
    "id": "639963cc64e2",
    "papermill": {
     "duration": 0.021333,
     "end_time": "2025-04-02T20:30:04.636516",
     "exception": false,
     "start_time": "2025-04-02T20:30:04.615183",
     "status": "completed"
    },
    "tags": []
   },
   "outputs": [
    {
     "name": "stdout",
     "output_type": "stream",
     "text": [
      "User:\n",
      "  \"What products should salesperson Alice focus on to round out her portfolio? Explain why.\"\n",
      "\n",
      "Model:\n",
      "  Function call: list_tables()\n",
      "\n",
      "User:\n",
      "  Function response:\n",
      "    ['products', 'sqlite_sequence', 'staff', 'orders']\n",
      "\n",
      "Model:\n",
      "  \"Okay, I will start by looking at the products table and the staff table.\n",
      "\"\n",
      "  Function call: describe_table(table_name=products)\n",
      "  Function call: describe_table(table_name=staff)\n",
      "\n",
      "User:\n",
      "  Function response:\n",
      "    [('product_id', 'INTEGER'), ('product_name', 'VARCHAR(255)'), ('price', 'DECIMAL(10, 2)')]\n",
      "  Function response:\n",
      "    [('staff_id', 'INTEGER'), ('first_name', 'VARCHAR(255)'), ('last_name', 'VARCHAR(255)')]\n",
      "\n",
      "Model:\n",
      "  Function call: describe_table(table_name=orders)\n",
      "\n",
      "User:\n",
      "  Function response:\n",
      "    [('order_id', 'INTEGER'), ('customer_name', 'VARCHAR(255)'), ('staff_id', 'INTEGER'), ('product_id', 'INTEGER')]\n",
      "\n",
      "Model:\n",
      "  \"Okay, I have the schema for orders, products, and staff. I will pull the relevant data and then reason about the answer.\n",
      "\"\n",
      "  Function call: execute_query(sql=SELECT product_name FROM products;)\n",
      "  Function call: execute_query(sql=SELECT staff_id, first_name, last_name FROM staff WHERE first_name = 'Alice';)\n",
      "\n",
      "User:\n",
      "  Function response:\n",
      "    [('Laptop',), ('Keyboard',), ('Mouse',)]\n",
      "  Function response:\n",
      "    [(1, 'Alice', 'Smith')]\n",
      "\n",
      "Model:\n",
      "  Function call: execute_query(sql=SELECT product_id FROM products;)\n",
      "\n",
      "User:\n",
      "  Function response:\n",
      "    [(1,), (2,), (3,)]\n",
      "\n",
      "Model:\n",
      "  Function call: execute_query(sql=SELECT product_id FROM orders WHERE staff_id = 1;)\n",
      "\n",
      "User:\n",
      "  Function response:\n",
      "    [(1,), (3,)]\n",
      "\n",
      "Model:\n",
      "  \"Alice (staff_id 1) has sold products with product_id 1 and 3. Product ID 1 is a Laptop, and Product ID 3 is a Mouse. Therefore, Alice should focus on selling Keyboards to round out her portfolio.\"\n",
      "\n",
      "User:\n",
      "  \"Total products sold by each staff?\"\n",
      "\n",
      "Model:\n",
      "  Function call: execute_query(sql=SELECT staff_id, count(*) FROM orders GROUP BY staff_id;)\n",
      "\n",
      "User:\n",
      "  Function response:\n",
      "    [(1, 2), (2, 1)]\n",
      "\n",
      "Model:\n",
      "  \"Staff ID 1 sold 2 products and Staff ID 2 sold 1 product.\n",
      "\"\n",
      "\n"
     ]
    }
   ],
   "source": [
    "import textwrap\n",
    "\n",
    "\n",
    "def print_chat_turns(chat):\n",
    "    \"\"\"Prints out each turn in the chat history, including function calls and responses.\"\"\"\n",
    "    for event in chat.get_history():\n",
    "        print(f\"{event.role.capitalize()}:\")\n",
    "\n",
    "        for part in event.parts:\n",
    "            if txt := part.text:\n",
    "                print(f'  \"{txt}\"')\n",
    "            elif fn := part.function_call:\n",
    "                args = \", \".join(f\"{key}={val}\" for key, val in fn.args.items())\n",
    "                print(f\"  Function call: {fn.name}({args})\")\n",
    "            elif resp := part.function_response:\n",
    "                print(\"  Function response:\")\n",
    "                print(textwrap.indent(str(resp.response['result']), \"    \"))\n",
    "\n",
    "        print()\n",
    "\n",
    "\n",
    "print_chat_turns(chat)"
   ]
  },
  {
   "cell_type": "markdown",
   "id": "a146aa63",
   "metadata": {
    "id": "8a17aeb2a3ef",
    "papermill": {
     "duration": 0.009263,
     "end_time": "2025-04-02T20:30:04.655513",
     "exception": false,
     "start_time": "2025-04-02T20:30:04.646250",
     "status": "completed"
    },
    "tags": []
   },
   "source": [
    "In this output you can see each of the conversational turns that were made. Note that the model doesn't remember anything outside of the chat history, so you can make changes to the database structure or data and the model will respond without needing any code changes - try this out!"
   ]
  },
  {
   "cell_type": "markdown",
   "id": "5c6fbb8e",
   "metadata": {
    "papermill": {
     "duration": 0.009105,
     "end_time": "2025-04-02T20:30:04.674266",
     "exception": false,
     "start_time": "2025-04-02T20:30:04.665161",
     "status": "completed"
    },
    "tags": []
   },
   "source": [
    "## Compositional function calling\n",
    "\n",
    "A powerful new feature in Gemini 2.0 is the model's ability to compose user-provided function calls together while generating code.\n",
    "\n",
    "This means that the model is able to take the available tools, generate code that uses it, and execute it all.\n",
    "\n",
    "The feature requires the Live API, so this step uses different setup code than most of the examples you have seen so far. As the Multimodal Live API is a bi-directional streaming service, everything is set up in advance and then executed. This is a little more complex but the result is quite powerful.\n",
    "\n",
    "First define a function that will handle streaming model output. It will stream text output, handle tool-calling and show the generated code that the model writes and executes to fulfill the task."
   ]
  },
  {
   "cell_type": "code",
   "execution_count": 18,
   "id": "13e8c944",
   "metadata": {
    "execution": {
     "iopub.execute_input": "2025-04-02T20:30:04.694688Z",
     "iopub.status.busy": "2025-04-02T20:30:04.694299Z",
     "iopub.status.idle": "2025-04-02T20:30:04.704768Z",
     "shell.execute_reply": "2025-04-02T20:30:04.703935Z"
    },
    "papermill": {
     "duration": 0.02307,
     "end_time": "2025-04-02T20:30:04.706683",
     "exception": false,
     "start_time": "2025-04-02T20:30:04.683613",
     "status": "completed"
    },
    "tags": []
   },
   "outputs": [],
   "source": [
    "from pprint import pformat\n",
    "from IPython.display import display, Image, Markdown\n",
    "\n",
    "\n",
    "async def handle_response(stream, tool_impl=None):\n",
    "  \"\"\"Stream output and handle any tool calls during the session.\"\"\"\n",
    "  all_responses = []\n",
    "\n",
    "  async for msg in stream.receive():\n",
    "    all_responses.append(msg)\n",
    "\n",
    "    if text := msg.text:\n",
    "      # Output any text chunks that are streamed back.\n",
    "      if len(all_responses) < 2 or not all_responses[-2].text:\n",
    "        # Display a header if this is the first text chunk.\n",
    "        display(Markdown('### Text'))\n",
    "\n",
    "      print(text, end='')\n",
    "\n",
    "    elif tool_call := msg.tool_call:\n",
    "      # Handle tool-call requests.\n",
    "      for fc in tool_call.function_calls:\n",
    "        display(Markdown('### Tool call'))\n",
    "\n",
    "        # Execute the tool and collect the result to return to the model.\n",
    "        if callable(tool_impl):\n",
    "          try:\n",
    "            result = tool_impl(**fc.args)\n",
    "          except Exception as e:\n",
    "            result = str(e)\n",
    "        else:\n",
    "          result = 'ok'\n",
    "\n",
    "        tool_response = types.LiveClientToolResponse(\n",
    "            function_responses=[types.FunctionResponse(\n",
    "                name=fc.name,\n",
    "                id=fc.id,\n",
    "                response={'result': result},\n",
    "            )]\n",
    "        )\n",
    "        await stream.send(input=tool_response)\n",
    "\n",
    "    elif msg.server_content and msg.server_content.model_turn:\n",
    "      # Print any messages showing code the model generated and ran.\n",
    "\n",
    "      for part in msg.server_content.model_turn.parts:\n",
    "          if code := part.executable_code:\n",
    "            display(Markdown(\n",
    "                f'### Code\\n```\\n{code.code}\\n```'))\n",
    "\n",
    "          elif result := part.code_execution_result:\n",
    "            display(Markdown(f'### Result: {result.outcome}\\n'\n",
    "                             f'```\\n{pformat(result.output)}\\n```'))\n",
    "\n",
    "          elif img := part.inline_data:\n",
    "            display(Image(img.data))\n",
    "\n",
    "  print()\n",
    "  return all_responses"
   ]
  },
  {
   "cell_type": "markdown",
   "id": "8b771ad8",
   "metadata": {
    "papermill": {
     "duration": 0.009333,
     "end_time": "2025-04-02T20:30:04.725563",
     "exception": false,
     "start_time": "2025-04-02T20:30:04.716230",
     "status": "completed"
    },
    "tags": []
   },
   "source": [
    "### Textual live database chat\n",
    "\n",
    "Now connect to the model and start a conversation.\n",
    "\n",
    "The Live API is a streaming API, so this example is fully pre-scripted and only has a single user input. Despite this, the request still requires the model to perform a bit of back-and-forth to interrogate the database, and you should see the model generate some code that uses the `execute_query` tool in a loop."
   ]
  },
  {
   "cell_type": "code",
   "execution_count": 19,
   "id": "9ae7a581",
   "metadata": {
    "execution": {
     "iopub.execute_input": "2025-04-02T20:30:04.746198Z",
     "iopub.status.busy": "2025-04-02T20:30:04.745811Z",
     "iopub.status.idle": "2025-04-02T20:30:09.440553Z",
     "shell.execute_reply": "2025-04-02T20:30:09.439386Z"
    },
    "papermill": {
     "duration": 4.707413,
     "end_time": "2025-04-02T20:30:09.442517",
     "exception": false,
     "start_time": "2025-04-02T20:30:04.735104",
     "status": "completed"
    },
    "tags": []
   },
   "outputs": [
    {
     "name": "stderr",
     "output_type": "stream",
     "text": [
      "/tmp/ipykernel_17/156199866.py:29: ExperimentalWarning: The live API is experimental and may change in future versions.\n",
      "  async with live_client.aio.live.connect(model=model, config=config) as session:\n"
     ]
    },
    {
     "name": "stdout",
     "output_type": "stream",
     "text": [
      "> Please take a look at staff, products and order tables. Please add 5 more relevant products and generate and insert 5 new rows in the orders table.\n",
      "\n"
     ]
    },
    {
     "data": {
      "text/markdown": [
       "### Text"
      ],
      "text/plain": [
       "<IPython.core.display.Markdown object>"
      ]
     },
     "metadata": {},
     "output_type": "display_data"
    },
    {
     "name": "stdout",
     "output_type": "stream",
     "text": [
      "Okay, I will start by examining the schemas of the `staff`, `products`, and `order` tables. Then, I will add 5 new products to the `products` table and finally, insert 5 new orders into the `order` table.\n"
     ]
    },
    {
     "data": {
      "text/markdown": [
       "### Code\n",
       "```\n",
       "print(default_api.execute_query(sql=\"SELECT sql FROM sqlite_master WHERE type='table' AND name IN ('staff', 'products', 'order');\"))\n",
       "\n",
       "```"
      ],
      "text/plain": [
       "<IPython.core.display.Markdown object>"
      ]
     },
     "metadata": {},
     "output_type": "display_data"
    },
    {
     "data": {
      "text/markdown": [
       "### Tool call"
      ],
      "text/plain": [
       "<IPython.core.display.Markdown object>"
      ]
     },
     "metadata": {},
     "output_type": "display_data"
    },
    {
     "name": "stdout",
     "output_type": "stream",
     "text": [
      " - DB CALL: execute_query(SELECT sql FROM sqlite_master WHERE type='table' AND name IN ('staff', 'products', 'order');)\n"
     ]
    },
    {
     "data": {
      "text/markdown": [
       "### Result: OUTCOME_OK\n",
       "```\n",
       "(\"{'result': [['CREATE TABLE products (\\\\n  \\\\tproduct_id INTEGER PRIMARY KEY \"\n",
       " 'AUTOINCREMENT,\\\\n  \\\\tproduct_name VARCHAR(255) NOT NULL,\\\\n  \\\\tprice '\n",
       " \"DECIMAL(10, 2) NOT NULL\\\\n  )'], ['CREATE TABLE staff (\\\\n  \\\\tstaff_id \"\n",
       " 'INTEGER PRIMARY KEY AUTOINCREMENT,\\\\n  \\\\tfirst_name VARCHAR(255) NOT '\n",
       " \"NULL,\\\\n  \\\\tlast_name VARCHAR(255) NOT NULL\\\\n  )']]}\\n\")\n",
       "```"
      ],
      "text/plain": [
       "<IPython.core.display.Markdown object>"
      ]
     },
     "metadata": {},
     "output_type": "display_data"
    },
    {
     "data": {
      "text/markdown": [
       "### Text"
      ],
      "text/plain": [
       "<IPython.core.display.Markdown object>"
      ]
     },
     "metadata": {},
     "output_type": "display_data"
    },
    {
     "name": "stdout",
     "output_type": "stream",
     "text": [
      "It seems I only got the schema for `products` and `staff`. I need to also get the schema for `order`.\n"
     ]
    },
    {
     "data": {
      "text/markdown": [
       "### Code\n",
       "```\n",
       "print(default_api.execute_query(sql=\"SELECT sql FROM sqlite_master WHERE type='table' AND name IN ('staff', 'products', 'order');\"))\n",
       "\n",
       "```"
      ],
      "text/plain": [
       "<IPython.core.display.Markdown object>"
      ]
     },
     "metadata": {},
     "output_type": "display_data"
    },
    {
     "data": {
      "text/markdown": [
       "### Tool call"
      ],
      "text/plain": [
       "<IPython.core.display.Markdown object>"
      ]
     },
     "metadata": {},
     "output_type": "display_data"
    },
    {
     "name": "stdout",
     "output_type": "stream",
     "text": [
      " - DB CALL: execute_query(SELECT sql FROM sqlite_master WHERE type='table' AND name IN ('staff', 'products', 'order');)\n"
     ]
    },
    {
     "data": {
      "text/markdown": [
       "### Result: OUTCOME_OK\n",
       "```\n",
       "(\"{'result': [['CREATE TABLE products (\\\\n  \\\\tproduct_id INTEGER PRIMARY KEY \"\n",
       " 'AUTOINCREMENT,\\\\n  \\\\tproduct_name VARCHAR(255) NOT NULL,\\\\n  \\\\tprice '\n",
       " \"DECIMAL(10, 2) NOT NULL\\\\n  )'], ['CREATE TABLE staff (\\\\n  \\\\tstaff_id \"\n",
       " 'INTEGER PRIMARY KEY AUTOINCREMENT,\\\\n  \\\\tfirst_name VARCHAR(255) NOT '\n",
       " \"NULL,\\\\n  \\\\tlast_name VARCHAR(255) NOT NULL\\\\n  )']]}\\n\")\n",
       "```"
      ],
      "text/plain": [
       "<IPython.core.display.Markdown object>"
      ]
     },
     "metadata": {},
     "output_type": "display_data"
    },
    {
     "data": {
      "text/markdown": [
       "### Text"
      ],
      "text/plain": [
       "<IPython.core.display.Markdown object>"
      ]
     },
     "metadata": {},
     "output_type": "display_data"
    },
    {
     "name": "stdout",
     "output_type": "stream",
     "text": [
      "It seems like the query is not returning the `order` table schema. I will try querying all tables, so that I can examine the schema for `order` as well.\n"
     ]
    },
    {
     "data": {
      "text/markdown": [
       "### Code\n",
       "```\n",
       "print(default_api.execute_query(sql=\"SELECT sql FROM sqlite_master WHERE type='table';\"))\n",
       "\n",
       "```"
      ],
      "text/plain": [
       "<IPython.core.display.Markdown object>"
      ]
     },
     "metadata": {},
     "output_type": "display_data"
    },
    {
     "data": {
      "text/markdown": [
       "### Tool call"
      ],
      "text/plain": [
       "<IPython.core.display.Markdown object>"
      ]
     },
     "metadata": {},
     "output_type": "display_data"
    },
    {
     "name": "stdout",
     "output_type": "stream",
     "text": [
      " - DB CALL: execute_query(SELECT sql FROM sqlite_master WHERE type='table';)\n"
     ]
    },
    {
     "data": {
      "text/markdown": [
       "### Result: OUTCOME_OK\n",
       "```\n",
       "(\"{'result': [['CREATE TABLE products (\\\\n  \\\\tproduct_id INTEGER PRIMARY KEY \"\n",
       " 'AUTOINCREMENT,\\\\n  \\\\tproduct_name VARCHAR(255) NOT NULL,\\\\n  \\\\tprice '\n",
       " \"DECIMAL(10, 2) NOT NULL\\\\n  )'], ['CREATE TABLE sqlite_sequence(name,seq)'], \"\n",
       " \"['CREATE TABLE staff (\\\\n  \\\\tstaff_id INTEGER PRIMARY KEY \"\n",
       " 'AUTOINCREMENT,\\\\n  \\\\tfirst_name VARCHAR(255) NOT NULL,\\\\n  \\\\tlast_name '\n",
       " \"VARCHAR(255) NOT NULL\\\\n  )'], ['CREATE TABLE orders (\\\\n  \\\\torder_id \"\n",
       " 'INTEGER PRIMARY KEY AUTOINCREMENT,\\\\n  \\\\tcustomer_name VARCHAR(255) NOT '\n",
       " 'NULL,\\\\n  \\\\tstaff_id INTEGER NOT NULL,\\\\n  \\\\tproduct_id INTEGER NOT '\n",
       " 'NULL,\\\\n  \\\\tFOREIGN KEY (staff_id) REFERENCES staff (staff_id),\\\\n  '\n",
       " \"\\\\tFOREIGN KEY (product_id) REFERENCES products (product_id)\\\\n  )']]}\\n\")\n",
       "```"
      ],
      "text/plain": [
       "<IPython.core.display.Markdown object>"
      ]
     },
     "metadata": {},
     "output_type": "display_data"
    },
    {
     "data": {
      "text/markdown": [
       "### Text"
      ],
      "text/plain": [
       "<IPython.core.display.Markdown object>"
      ]
     },
     "metadata": {},
     "output_type": "display_data"
    },
    {
     "name": "stdout",
     "output_type": "stream",
     "text": [
      "Okay, I now have the schemas for all three tables.\n",
      "\n",
      "`products`:\n",
      "- `product_id` (INTEGER, PRIMARY KEY, AUTOINCREMENT)\n",
      "- `product_name` (VARCHAR(255), NOT NULL)\n",
      "- `price` (DECIMAL(10, 2), NOT NULL)\n",
      "\n",
      "`staff`:\n",
      "- `staff_id` (INTEGER, PRIMARY KEY, AUTOINCREMENT)\n",
      "- `first_name` (VARCHAR(255), NOT NULL)\n",
      "- `last_name` (VARCHAR(255), NOT NULL)\n",
      "\n",
      "`orders`:\n",
      "- `order_id` (INTEGER, PRIMARY KEY, AUTOINCREMENT)\n",
      "- `customer_name` (VARCHAR(255), NOT NULL)\n",
      "- `staff_id` (INTEGER, NOT NULL, FOREIGN KEY referencing `staff`)\n",
      "- `product_id` (INTEGER, NOT NULL, FOREIGN KEY referencing `products`)\n",
      "\n",
      "Now, I will add 5 new products to the `products` table.\n"
     ]
    },
    {
     "data": {
      "text/markdown": [
       "### Code\n",
       "```\n",
       "print(default_api.execute_query(sql=\"INSERT INTO products (product_name, price) VALUES ('Laptop', 1200.00), ('Monitor', 300.00), ('Keyboard', 75.00), ('Mouse', 25.00), ('Webcam', 50.00);\"))\n",
       "\n",
       "```"
      ],
      "text/plain": [
       "<IPython.core.display.Markdown object>"
      ]
     },
     "metadata": {},
     "output_type": "display_data"
    },
    {
     "data": {
      "text/markdown": [
       "### Tool call"
      ],
      "text/plain": [
       "<IPython.core.display.Markdown object>"
      ]
     },
     "metadata": {},
     "output_type": "display_data"
    },
    {
     "name": "stdout",
     "output_type": "stream",
     "text": [
      " - DB CALL: execute_query(INSERT INTO products (product_name, price) VALUES ('Laptop', 1200.00), ('Monitor', 300.00), ('Keyboard', 75.00), ('Mouse', 25.00), ('Webcam', 50.00);)\n"
     ]
    },
    {
     "data": {
      "text/markdown": [
       "### Result: OUTCOME_OK\n",
       "```\n",
       "\"{'result': []}\\n\"\n",
       "```"
      ],
      "text/plain": [
       "<IPython.core.display.Markdown object>"
      ]
     },
     "metadata": {},
     "output_type": "display_data"
    },
    {
     "name": "stdout",
     "output_type": "stream",
     "text": [
      "\n"
     ]
    }
   ],
   "source": [
    "model = 'gemini-2.0-flash-exp'\n",
    "live_client = genai.Client(api_key=GOOGLE_API_KEY,\n",
    "                           http_options=types.HttpOptions(api_version='v1alpha'))\n",
    "\n",
    "# Wrap the existing execute_query tool you used in the earlier example.\n",
    "execute_query_tool_def = types.FunctionDeclaration.from_callable(\n",
    "    client=live_client, callable=execute_query)\n",
    "\n",
    "# Provide the model with enough information to use the tool, such as describing\n",
    "# the database so it understands which SQL syntax to use.\n",
    "sys_int = \"\"\"You are a database interface. Use the `execute_query` function\n",
    "to answer the users questions by looking up information in the database,\n",
    "running any necessary queries and responding to the user.\n",
    "\n",
    "You need to look up table schema using sqlite3 syntax SQL, then once an\n",
    "answer is found be sure to tell the user. If the user is requesting an\n",
    "action, you must also execute the actions.\n",
    "\"\"\"\n",
    "\n",
    "config = {\n",
    "    \"response_modalities\": [\"TEXT\"],\n",
    "    \"system_instruction\": {\"parts\": [{\"text\": sys_int}]},\n",
    "    \"tools\": [\n",
    "        {\"code_execution\": {}},\n",
    "        {\"function_declarations\": [execute_query_tool_def.to_json_dict()]},\n",
    "    ],\n",
    "}\n",
    "\n",
    "async with live_client.aio.live.connect(model=model, config=config) as session:\n",
    "\n",
    "  message = \"Please take a look at staff, products and order tables. Please add 5 more relevant products and generate and insert 5 new rows in the orders table.\"\n",
    "  print(f\"> {message}\\n\")\n",
    "\n",
    "  await session.send(input=message, end_of_turn=True)\n",
    "  await handle_response(session, tool_impl=execute_query)"
   ]
  },
  {
   "cell_type": "markdown",
   "id": "6b44fe41",
   "metadata": {
    "papermill": {
     "duration": 0.012839,
     "end_time": "2025-04-02T20:30:09.468465",
     "exception": false,
     "start_time": "2025-04-02T20:30:09.455626",
     "status": "completed"
    },
    "tags": []
   },
   "source": [
    "In the output from the previous step, you should see a `Code` section that shows code that the model generated in order to complete the task. It will look something like this:\n",
    "\n",
    "```py\n",
    "sql_statements = [ ... ]\n",
    "\n",
    "for sql in sql_statements:\n",
    "  print(default_api.execute_query(sql))\n",
    "```\n",
    "\n",
    "The model then runs this code (remotely), calling out to the provided tool when it reaches that part of the code. The `default_api` module contains the tools that you provided.\n",
    "\n",
    "This example simply executes in a loop, but the models are capable of more complex interactions with multiple tools, giving you a powerful agent framework that's effectively built in to the Gemini API."
   ]
  },
  {
   "cell_type": "markdown",
   "id": "840c2fd6",
   "metadata": {
    "papermill": {
     "duration": 0.0125,
     "end_time": "2025-04-02T20:30:09.493665",
     "exception": false,
     "start_time": "2025-04-02T20:30:09.481165",
     "status": "completed"
    },
    "tags": []
   },
   "source": [
    "### Plotting the database\n",
    "\n",
    "Try out the built-in agent capability with the next example. You may notice the model try to guess the database schema or environment. Often the model will make mistakes, but you can look through the `Text` output and watch as the model inspects the error, tries a new approach and learns from its mistakes.\n",
    "\n",
    "If the model doesn't return a plot, try running the cell again."
   ]
  },
  {
   "cell_type": "code",
   "execution_count": 20,
   "id": "c8d2448a",
   "metadata": {
    "execution": {
     "iopub.execute_input": "2025-04-02T20:30:09.521956Z",
     "iopub.status.busy": "2025-04-02T20:30:09.520964Z",
     "iopub.status.idle": "2025-04-02T20:30:16.657901Z",
     "shell.execute_reply": "2025-04-02T20:30:16.656453Z"
    },
    "papermill": {
     "duration": 7.153311,
     "end_time": "2025-04-02T20:30:16.660092",
     "exception": false,
     "start_time": "2025-04-02T20:30:09.506781",
     "status": "completed"
    },
    "tags": []
   },
   "outputs": [
    {
     "name": "stdout",
     "output_type": "stream",
     "text": [
      "> Can you figure out the number of orders that were made by each of the staff?\n",
      "\n"
     ]
    },
    {
     "data": {
      "text/markdown": [
       "### Code\n",
       "```\n",
       "sql_query = \"SELECT name FROM sqlite_master WHERE type='table';\"\n",
       "print(default_api.execute_query(sql=sql_query))\n",
       "\n",
       "```"
      ],
      "text/plain": [
       "<IPython.core.display.Markdown object>"
      ]
     },
     "metadata": {},
     "output_type": "display_data"
    },
    {
     "data": {
      "text/markdown": [
       "### Tool call"
      ],
      "text/plain": [
       "<IPython.core.display.Markdown object>"
      ]
     },
     "metadata": {},
     "output_type": "display_data"
    },
    {
     "name": "stdout",
     "output_type": "stream",
     "text": [
      " - DB CALL: execute_query(SELECT name FROM sqlite_master WHERE type='table';)\n"
     ]
    },
    {
     "data": {
      "text/markdown": [
       "### Result: OUTCOME_OK\n",
       "```\n",
       "\"{'result': [['products'], ['sqlite_sequence'], ['staff'], ['orders']]}\\n\"\n",
       "```"
      ],
      "text/plain": [
       "<IPython.core.display.Markdown object>"
      ]
     },
     "metadata": {},
     "output_type": "display_data"
    },
    {
     "data": {
      "text/markdown": [
       "### Text"
      ],
      "text/plain": [
       "<IPython.core.display.Markdown object>"
      ]
     },
     "metadata": {},
     "output_type": "display_data"
    },
    {
     "name": "stdout",
     "output_type": "stream",
     "text": [
      "Okay, I see the tables available are `products`, `staff`, and `orders`. To figure out the number of orders made by each staff, I'll need to join the `staff` and `orders` tables, probably using a staff ID. Let's inspect the schemas of both tables.\n"
     ]
    },
    {
     "data": {
      "text/markdown": [
       "### Code\n",
       "```\n",
       "print(default_api.execute_query(sql=\"PRAGMA table_info(staff);\"))\n",
       "print(default_api.execute_query(sql=\"PRAGMA table_info(orders);\"))\n",
       "\n",
       "```"
      ],
      "text/plain": [
       "<IPython.core.display.Markdown object>"
      ]
     },
     "metadata": {},
     "output_type": "display_data"
    },
    {
     "data": {
      "text/markdown": [
       "### Tool call"
      ],
      "text/plain": [
       "<IPython.core.display.Markdown object>"
      ]
     },
     "metadata": {},
     "output_type": "display_data"
    },
    {
     "name": "stdout",
     "output_type": "stream",
     "text": [
      " - DB CALL: execute_query(PRAGMA table_info(staff);)\n"
     ]
    },
    {
     "data": {
      "text/markdown": [
       "### Tool call"
      ],
      "text/plain": [
       "<IPython.core.display.Markdown object>"
      ]
     },
     "metadata": {},
     "output_type": "display_data"
    },
    {
     "name": "stdout",
     "output_type": "stream",
     "text": [
      " - DB CALL: execute_query(PRAGMA table_info(orders);)\n"
     ]
    },
    {
     "data": {
      "text/markdown": [
       "### Result: OUTCOME_OK\n",
       "```\n",
       "(\"{'result': [[0, 'staff_id', 'INTEGER', 0, None, 1], [1, 'first_name', \"\n",
       " \"'VARCHAR(255)', 1, None, 0], [2, 'last_name', 'VARCHAR(255)', 1, None, 0]]}\\n\"\n",
       " \"{'result': [[0, 'order_id', 'INTEGER', 0, None, 1], [1, 'customer_name', \"\n",
       " \"'VARCHAR(255)', 1, None, 0], [2, 'staff_id', 'INTEGER', 1, None, 0], [3, \"\n",
       " \"'product_id', 'INTEGER', 1, None, 0]]}\\n\")\n",
       "```"
      ],
      "text/plain": [
       "<IPython.core.display.Markdown object>"
      ]
     },
     "metadata": {},
     "output_type": "display_data"
    },
    {
     "data": {
      "text/markdown": [
       "### Text"
      ],
      "text/plain": [
       "<IPython.core.display.Markdown object>"
      ]
     },
     "metadata": {},
     "output_type": "display_data"
    },
    {
     "name": "stdout",
     "output_type": "stream",
     "text": [
      "Okay, it seems like `staff` table has `staff_id`, `first_name`, and `last_name` columns, and the `orders` table has `order_id`, `customer_name`, `staff_id`, and `product_id`.  I can join these tables on `staff.staff_id = orders.staff_id`. Then I will group by `staff_id` and count the number of orders to fulfill the user request. I will also select `first_name` and `last_name` to show to the user.\n"
     ]
    },
    {
     "data": {
      "text/markdown": [
       "### Code\n",
       "```\n",
       "sql_query = \"\"\"\n",
       "SELECT\n",
       "    s.first_name,\n",
       "    s.last_name,\n",
       "    COUNT(o.order_id) AS number_of_orders\n",
       "FROM\n",
       "    staff s\n",
       "JOIN\n",
       "    orders o ON s.staff_id = o.staff_id\n",
       "GROUP BY\n",
       "    s.staff_id;\n",
       "\"\"\"\n",
       "print(default_api.execute_query(sql=sql_query))\n",
       "\n",
       "```"
      ],
      "text/plain": [
       "<IPython.core.display.Markdown object>"
      ]
     },
     "metadata": {},
     "output_type": "display_data"
    },
    {
     "data": {
      "text/markdown": [
       "### Tool call"
      ],
      "text/plain": [
       "<IPython.core.display.Markdown object>"
      ]
     },
     "metadata": {},
     "output_type": "display_data"
    },
    {
     "name": "stdout",
     "output_type": "stream",
     "text": [
      " - DB CALL: execute_query(\n",
      "SELECT\n",
      "    s.first_name,\n",
      "    s.last_name,\n",
      "    COUNT(o.order_id) AS number_of_orders\n",
      "FROM\n",
      "    staff s\n",
      "JOIN\n",
      "    orders o ON s.staff_id = o.staff_id\n",
      "GROUP BY\n",
      "    s.staff_id;\n",
      ")\n"
     ]
    },
    {
     "data": {
      "text/markdown": [
       "### Result: OUTCOME_OK\n",
       "```\n",
       "\"{'result': [['Alice', 'Smith', 2], ['Bob', 'Johnson', 1]]}\\n\"\n",
       "```"
      ],
      "text/plain": [
       "<IPython.core.display.Markdown object>"
      ]
     },
     "metadata": {},
     "output_type": "display_data"
    },
    {
     "data": {
      "text/markdown": [
       "### Text"
      ],
      "text/plain": [
       "<IPython.core.display.Markdown object>"
      ]
     },
     "metadata": {},
     "output_type": "display_data"
    },
    {
     "name": "stdout",
     "output_type": "stream",
     "text": [
      "Okay, the query returned the number of orders for each staff member. Alice Smith made 2 orders, and Bob Johnson made 1 order.\n",
      "\n",
      "> Generate and run some code to plot this as a python seaborn chart\n",
      "\n"
     ]
    },
    {
     "data": {
      "text/markdown": [
       "### Code\n",
       "```\n",
       "import pandas as pd\n",
       "import seaborn as sns\n",
       "import matplotlib.pyplot as plt\n",
       "\n",
       "query_result = default_api.execute_query(sql=\"\"\"\n",
       "SELECT\n",
       "    s.first_name,\n",
       "    s.last_name,\n",
       "    COUNT(o.order_id) AS number_of_orders\n",
       "FROM\n",
       "    staff s\n",
       "JOIN\n",
       "    orders o ON s.staff_id = o.staff_id\n",
       "GROUP BY\n",
       "    s.staff_id;\n",
       "\"\"\")\n",
       "\n",
       "if query_result and query_result['result']:\n",
       "    df = pd.DataFrame(query_result['result'], columns=['first_name', 'last_name', 'number_of_orders'])\n",
       "    df['staff_name'] = df['first_name'] + ' ' + df['last_name']\n",
       "\n",
       "    plt.figure(figsize=(8, 6))\n",
       "    sns.barplot(x='staff_name', y='number_of_orders', data=df)\n",
       "    plt.title('Number of Orders per Staff Member')\n",
       "    plt.xlabel('Staff Member')\n",
       "    plt.ylabel('Number of Orders')\n",
       "    plt.xticks(rotation=45, ha='right')\n",
       "    plt.tight_layout()\n",
       "    plt.show()\n",
       "else:\n",
       "    print(\"No data returned from the query.\")\n",
       "\n",
       "```"
      ],
      "text/plain": [
       "<IPython.core.display.Markdown object>"
      ]
     },
     "metadata": {},
     "output_type": "display_data"
    },
    {
     "data": {
      "text/markdown": [
       "### Tool call"
      ],
      "text/plain": [
       "<IPython.core.display.Markdown object>"
      ]
     },
     "metadata": {},
     "output_type": "display_data"
    },
    {
     "name": "stdout",
     "output_type": "stream",
     "text": [
      " - DB CALL: execute_query(\n",
      "SELECT\n",
      "    s.first_name,\n",
      "    s.last_name,\n",
      "    COUNT(o.order_id) AS number_of_orders\n",
      "FROM\n",
      "    staff s\n",
      "JOIN\n",
      "    orders o ON s.staff_id = o.staff_id\n",
      "GROUP BY\n",
      "    s.staff_id;\n",
      ")\n"
     ]
    },
    {
     "data": {
      "image/png": "[encoded data removed]",
      "text/plain": [
       "<IPython.core.display.Image object>"
      ]
     },
     "metadata": {},
     "output_type": "display_data"
    },
    {
     "data": {
      "text/markdown": [
       "### Text"
      ],
      "text/plain": [
       "<IPython.core.display.Markdown object>"
      ]
     },
     "metadata": {},
     "output_type": "display_data"
    },
    {
     "name": "stdout",
     "output_type": "stream",
     "text": [
      "The bar chart shows the number of orders placed by each staff member. Alice Smith has 2 orders, and Bob Johnson has 1 order.\n",
      "\n"
     ]
    }
   ],
   "source": [
    "async with live_client.aio.live.connect(model=model, config=config) as session:\n",
    "\n",
    "  message = \"Can you figure out the number of orders that were made by each of the staff?\"\n",
    "\n",
    "  print(f\"> {message}\\n\")\n",
    "  await session.send(input=message, end_of_turn=True)\n",
    "  await handle_response(session, tool_impl=execute_query)\n",
    "\n",
    "  message = \"Generate and run some code to plot this as a python seaborn chart\"\n",
    "\n",
    "  print(f\"> {message}\\n\")\n",
    "  await session.send(input=message, end_of_turn=True)\n",
    "  await handle_response(session, tool_impl=execute_query)"
   ]
  },
  {
   "cell_type": "markdown",
   "id": "83262f03",
   "metadata": {
    "id": "8a17aeb2a3ef",
    "papermill": {
     "duration": 0.016081,
     "end_time": "2025-04-02T20:30:16.692571",
     "exception": false,
     "start_time": "2025-04-02T20:30:16.676490",
     "status": "completed"
    },
    "tags": []
   },
   "source": [
    "## Further reading\n",
    "\n",
    "To learn more about what the Gemini API can do with function calling, check out the [Function calling cookbook](https://github.com/google-gemini/cookbook/blob/main/quickstarts/Function_calling.ipynb) (see `Manual function calling` to understand how function calling works manually) as well as [Function calling config](https://github.com/google-gemini/cookbook/blob/main/quickstarts/Function_calling_config.ipynb), which gives you fine-grained control over how function calling is triggered.\n",
    "\n",
    "And stay tuned for day 4, where you will explore using function calling with grounding tools.\n",
    "\n",
    "*- [Mark McD](https://linktr.ee/markmcd)*"
   ]
  }
 ],
 "metadata": {
  "colab": {
   "name": "day-3-function-calling-with-the-gemini-api.ipynb",
   "toc_visible": true
  },
  "kaggle": {
   "accelerator": "none",
   "dataSources": [],
   "dockerImageVersionId": 30786,
   "isGpuEnabled": false,
   "isInternetEnabled": true,
   "language": "python",
   "sourceType": "notebook"
  },
  "kernelspec": {
   "display_name": "Python 3",
   "language": "python",
   "name": "python3"
  },
  "language_info": {
   "codemirror_mode": {
    "name": "ipython",
    "version": 3
   },
   "file_extension": ".py",
   "mimetype": "text/x-python",
   "name": "python",
   "nbconvert_exporter": "python",
   "pygments_lexer": "ipython3",
   "version": "3.10.14"
  },
  "papermill": {
   "default_parameters": {},
   "duration": 118.558287,
   "end_time": "2025-04-02T20:30:17.631186",
   "environment_variables": {},
   "exception": null,
   "input_path": "__notebook__.ipynb",
   "output_path": "__notebook__.ipynb",
   "parameters": {},
   "start_time": "2025-04-02T20:28:19.072899",
   "version": "2.6.0"
  }
 },
 "nbformat": 4,
 "nbformat_minor": 5
}
